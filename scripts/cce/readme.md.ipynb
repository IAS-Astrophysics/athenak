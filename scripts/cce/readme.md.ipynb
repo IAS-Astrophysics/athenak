{
 "cells": [
  {
   "cell_type": "markdown",
   "id": "83f86f12",
   "metadata": {},
   "source": [
    "# Background"
   ]
  },
  {
   "cell_type": "markdown",
   "id": "abb8f4ba",
   "metadata": {},
   "source": [
    "# Requirements\n",
    "\n",
    "1. [Spectre CCE code](https://spectre-code.org/tutorial_cce.html)\n",
    "\n",
    "2. [BMS trasnformation code (scri)](https://scri.readthedocs.io/en/latest/README.html)\n",
    "\n",
    "3. python packages: numpy, h5py, scipy\n"
   ]
  },
  {
   "cell_type": "markdown",
   "id": "9427a849",
   "metadata": {},
   "source": [
    "# How to compute CCE strains\n",
    "\n",
    "## Spectre CCE format\n",
    "\n",
    "1. We first convert the boundary condition data, saved in binray format, into a format readable by the `Spectre CCE`. This is done by the `./athk_to_spectre.py` python script. Before lunching the script, we need to know the `dump_extraction_radius`, which can be find in the `AthenaK` parameter file. We usually set the `dump_extraction_radius` parameter at the middle of inner and outer radii of the shell where the metric data are interplated.\n",
    "\n",
    "```bash\n",
    "\n",
    "# converting binary dump data into spectre reable format:\n",
    "./athk_to_spectre.py -ftype bin -radius [dump_extraction_radius] -d_out [output_directory]\n",
    "\n",
    "```\n",
    "\n",
    "2. Having run the convertor script, we see inside the output directory there is a `h5` file readable by `Spectre CCE`. The file name is similar to `CceR0XXX.h5`. We specify the path of this file inside the `Spectre CCE` yaml parameter file `CharacteristicExtract.yaml`; namely, we set the paramter `BoundaryDataFilename = path/to/CceR0XXX.h5` inside `CharacteristicExtract.yaml`. Then we lunch the `Spectre CCE` as follows:\n",
    "\n",
    "```bash\n",
    "./CharacteristicExtract --input-file CharacteristicExtract.yaml\n",
    "\n",
    "```\n"
   ]
  },
  {
   "cell_type": "markdown",
   "id": "187b851f",
   "metadata": {},
   "source": [
    "# Debugging tools"
   ]
  }
 ],
 "metadata": {
  "kernelspec": {
   "display_name": "Python 3 (ipykernel)",
   "language": "python",
   "name": "python3"
  },
  "language_info": {
   "codemirror_mode": {
    "name": "ipython",
    "version": 3
   },
   "file_extension": ".py",
   "mimetype": "text/x-python",
   "name": "python",
   "nbconvert_exporter": "python",
   "pygments_lexer": "ipython3",
   "version": "3.12.3"
  }
 },
 "nbformat": 4,
 "nbformat_minor": 5
}
