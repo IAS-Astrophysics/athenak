{
 "cells": [
  {
   "cell_type": "markdown",
   "id": "c93ceec9",
   "metadata": {},
   "source": [
    "# Background\n",
    "\n",
    "So these are the spherical harmonics coefficients of the adm variables on a nested set of spherical shells at each time step. These are written to a binary format (.bin). The radius of the nested shell are set to be the Chebyshev collocation points, which we then use to interpolate to a set radius in between the inner and outer most radii and calculate the derivatives"
   ]
  },
  {
   "cell_type": "markdown",
   "id": "ab1b55e4",
   "metadata": {},
   "source": [
    "# Requirements\n",
    "\n",
    "1. [Spectre CCE executable](https://spectre-code.org/tutorial_cce.html)\n",
    "\n",
    "2. [BMS trasnformation package (scri)](https://scri.readthedocs.io/en/latest/README.html)\n",
    "\n",
    "3. python packages: `numpy`, `h5py`, `scipy`, `matplotlib`\n"
   ]
  },
  {
   "cell_type": "markdown",
   "id": "253eac68",
   "metadata": {},
   "source": [
    "# Compute CCE strains using `Spectre CCE`\n",
    "\n",
    "1. We first convert the boundary condition data, saved in binray format, into a format readable by the `Spectre CCE`. This is done by the `./athk_to_spectre.py` python script. Before lunching the script, we need to know the `dump_extraction_radius`, which can be find in the `AthenaK` parameter file. We usually set the `dump_extraction_radius` parameter at the middle of inner and outer radii of the shell where the metric data are interplated.\n",
    "\n",
    "```bash\n",
    "\n",
    "# converting binary dump data into spectre reable format:\n",
    "./athk_to_spectre.py -ftype bin -radius [dump_extraction_radius] -d_out [output_directory]\n",
    "\n",
    "```\n",
    "\n",
    "2. Having run the convertor script, we see inside the output directory there is a `h5` file readable by `Spectre CCE`. The file name is similar to `CceRXXXX.h5`, where `XXXX` specifies the extraction radius. We specify the path of this file inside the `Spectre CCE` yaml parameter file `CharacteristicExtract.yaml`; namely, we set the paramter `BoundaryDataFilename = path/to/CceRXXXX.h5` inside `CharacteristicExtract.yaml`. Then we lunch the `Spectre CCE` as follows:\n",
    "\n",
    "```bash\n",
    "./CharacteristicExtract --input-file CharacteristicExtract.yaml\n",
    "\n",
    "```\n"
   ]
  },
  {
   "cell_type": "markdown",
   "id": "4a0943f7",
   "metadata": {},
   "source": [
    "# BMS transformation\n",
    "\n",
    "Since the output of `Spectre CCE` is in different that super rest frame, we need to apply a BMS transformation on the GW waves, see [Frame fixing](https://spectre-code.org/tutorial_cce.html#autotoc_md65) and [Scri](https://scri.readthedocs.io/en/latest/tutorial_abd.html#loading-cce-data-and-adjusting-the-bms-frame).\n",
    "The following script shows how in practice apply a BMS transformation:\n",
    "\n",
    "```python\n",
    "\n",
    "import scri\n",
    "import matplotlib.pyplot as plt\n",
    "import numpy as np\n",
    "\n",
    "# transform to the superrest frame\n",
    "w = scri.WaveformModes()\n",
    "abd = scri.create_abd_from_h5(\n",
    "      file_name=\"/path/to/CharacteristicExtractReduction.h5\",\n",
    "      file_format=\"spectrecce_v1\",\n",
    "      ch_mass=1.0,\n",
    "      t_0_superrest=t0, # some time after junk radiation\n",
    "      padding_time=w0 # about two orbital periods\n",
    "    )\n",
    "h = abd.h\n",
    "\n",
    "# the wavefroms is transformed, now plot h_22, where h.t the the time\n",
    "plt.plot(h.t, h.data[:, h.index(2,2)])\n",
    "\n",
    "# you can access to real and imaginary part of h as:\n",
    "re = h.data[:,h.index(2,2)].real\n",
    "im = h.data[:,h.index(2,2)].imag\n",
    "```"
   ]
  },
  {
   "cell_type": "markdown",
   "id": "7aa27fd4",
   "metadata": {},
   "source": [
    "# Debugging tools\n",
    "\n",
    "The `debug_athk_to_spectre.py` script provides tools to analyse and hence debug the transform output of `athk_to_spectre.py` script. One can look at a particular mode at different time and hence check for the convergence of sherical harmonic modes or radial or time derivatives of each boundary condition quantities. The following example exhibits the real $(2,2)$ mode of $g_{xx}(t)$ metric in spherical harmonic:\n",
    "\n",
    "```bash\n",
    "\n",
    "./debug_athk_to_spectre.py -debug plot_simple -dout [output_directory] \\\n",
    "  -fpath [/path/to/CceRXXXX.h5]  -field_name \"gxx\" -field_mode \"Re(2,2)\"\n",
    "\n",
    "```\n",
    "\n"
   ]
  },
  {
   "cell_type": "code",
   "execution_count": null,
   "id": "94a8ec6f",
   "metadata": {},
   "outputs": [],
   "source": []
  }
 ],
 "metadata": {
  "kernelspec": {
   "display_name": "Python 3 (ipykernel)",
   "language": "python",
   "name": "python3"
  },
  "language_info": {
   "codemirror_mode": {
    "name": "ipython",
    "version": 3
   },
   "file_extension": ".py",
   "mimetype": "text/x-python",
   "name": "python",
   "nbconvert_exporter": "python",
   "pygments_lexer": "ipython3",
   "version": "3.12.3"
  }
 },
 "nbformat": 4,
 "nbformat_minor": 5
}
