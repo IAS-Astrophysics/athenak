{
 "cells": [
  {
   "cell_type": "code",
   "execution_count": null,
   "id": "0491f9aa",
   "metadata": {},
   "outputs": [],
   "source": [
    "# https://scri.readthedocs.io/en/latest/tutorial_abd.html#loading-cce-data-and-adjusting-the-bms-frame\n",
    "import scri\n",
    "import matplotlib.pyplot as plt\n",
    "import numpy as np"
   ]
  },
  {
   "cell_type": "code",
   "execution_count": null,
   "id": "d45f67e0",
   "metadata": {},
   "outputs": [],
   "source": [
    "w = scri.WaveformModes()"
   ]
  },
  {
   "cell_type": "code",
   "execution_count": null,
   "id": "fbbd0dea",
   "metadata": {},
   "outputs": [],
   "source": [
    "abd = scri.create_abd_from_h5(\n",
    "      file_name=\"debug/q2/CharacteristicExtractReduction_10_8.h5\",\n",
    "      file_format=\"spectrecce_v1\",\n",
    "      ch_mass=1.0,  # Optional; helpful if known\n",
    "      # t_interpolate=t_worldtube,  # Optional; for some specified values of `t_worldtube`\n",
    "      t_0_superrest=500,\n",
    "      padding_time=200\n",
    "    )"
   ]
  },
  {
   "cell_type": "code",
   "execution_count": null,
   "id": "1d82ee9c",
   "metadata": {},
   "outputs": [],
   "source": [
    "h = abd.h"
   ]
  },
  {
   "cell_type": "code",
   "execution_count": null,
   "id": "fe2397e3",
   "metadata": {},
   "outputs": [],
   "source": [
    "plt.plot(h.t, h.data[:, h.index(2,2)])"
   ]
  },
  {
   "cell_type": "code",
   "execution_count": null,
   "id": "6bf07394",
   "metadata": {},
   "outputs": [],
   "source": [
    "re = h.data[:,h.index(2,2)].real\n",
    "im = h.data[:,h.index(2,2)].imag\n",
    "am = np.sqrt(np.square(re)+np.square(im))"
   ]
  },
  {
   "cell_type": "code",
   "execution_count": null,
   "id": "dafbd8a1",
   "metadata": {},
   "outputs": [],
   "source": [
    "plt.plot(h.t,am)"
   ]
  },
  {
   "cell_type": "code",
   "execution_count": null,
   "id": "66a3fd9e",
   "metadata": {},
   "outputs": [],
   "source": [
    "dout = np.column_stack((h.t,re,im,am))\n",
    "np.savetxt(\"./bms_h22.txt\",dout,header=\"# t re im am\")"
   ]
  }
 ],
 "metadata": {
  "kernelspec": {
   "display_name": "nr_misc",
   "language": "python",
   "name": "nr_misc"
  },
  "language_info": {
   "codemirror_mode": {
    "name": "ipython",
    "version": 3
   },
   "file_extension": ".py",
   "mimetype": "text/x-python",
   "name": "python",
   "nbconvert_exporter": "python",
   "pygments_lexer": "ipython3",
   "version": "3.10.12"
  }
 },
 "nbformat": 4,
 "nbformat_minor": 5
}
